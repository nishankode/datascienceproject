{
 "cells": [
  {
   "cell_type": "code",
   "execution_count": 1,
   "id": "551f1fce",
   "metadata": {},
   "outputs": [],
   "source": [
    "import os"
   ]
  },
  {
   "cell_type": "code",
   "execution_count": 2,
   "id": "139f7905",
   "metadata": {},
   "outputs": [
    {
     "data": {
      "text/plain": [
       "'c:\\\\Users\\\\mnsnn\\\\Documents\\\\Portfolio\\\\MLOps\\\\datascienceproject\\\\research'"
      ]
     },
     "execution_count": 2,
     "metadata": {},
     "output_type": "execute_result"
    }
   ],
   "source": [
    "pwd()"
   ]
  },
  {
   "cell_type": "code",
   "execution_count": 3,
   "id": "316618e5",
   "metadata": {},
   "outputs": [],
   "source": [
    "os.chdir(\"../\")"
   ]
  },
  {
   "cell_type": "code",
   "execution_count": 4,
   "id": "cadbbce3",
   "metadata": {},
   "outputs": [
    {
     "data": {
      "text/plain": [
       "'c:\\\\Users\\\\mnsnn\\\\Documents\\\\Portfolio\\\\MLOps\\\\datascienceproject'"
      ]
     },
     "execution_count": 4,
     "metadata": {},
     "output_type": "execute_result"
    }
   ],
   "source": [
    "pwd()"
   ]
  },
  {
   "cell_type": "code",
   "execution_count": 5,
   "id": "fbe77238",
   "metadata": {},
   "outputs": [],
   "source": [
    "from dataclasses import dataclass\n",
    "from pathlib import Path\n",
    "\n",
    "@dataclass\n",
    "class DataIngestionConfig:\n",
    "    root_dir: Path\n",
    "    source_URL: str\n",
    "    local_data_file: Path\n",
    "    unzip_dir: Path"
   ]
  },
  {
   "cell_type": "code",
   "execution_count": 6,
   "id": "a31435d8",
   "metadata": {},
   "outputs": [],
   "source": [
    "from src.datascience.constants import *\n",
    "from src.datascience.utils.common import read_yaml, create_directories\n",
    "\n",
    "\n",
    "class ConfigurationManager:\n",
    "\tdef __init__(self, \n",
    "\t\tconfig_filepath = CONFIG_FILE_PATH,\n",
    "\t\tparams_filepath = PARAMS_FILE_PATH,\n",
    "\t\tschema_filepath = SCHEMA_FILE_PATH):\n",
    "\t\t\n",
    "\t\t# Loading configs, params and schema\n",
    "\t\tself.config = read_yaml(config_filepath)\n",
    "\t\tself.params = read_yaml(params_filepath)\n",
    "\t\tself.schema = read_yaml(schema_filepath)\n",
    "\n",
    "\t\t# Creating Artifacts\n",
    "\t\tcreate_directories([self.config.artifacts_root])\n",
    "\n",
    "\tdef get_data_ingestion_config(self) -> DataIngestionConfig:\n",
    "\t\tconfig = self.config.data_ingestion\n",
    "\t\tcreate_directories([config.root_dir])\n",
    "\n",
    "\t\tdata_ingestion_config = DataIngestionConfig(\n",
    "\t\t\troot_dir = config.root_dir,\n",
    "\t\t\tsource_URL = config.source_URL,\n",
    "\t\t\tlocal_data_file = config.local_data_file,\n",
    "\t\t\tunzip_dir = config.unzip_dir\n",
    "\t\t)\n",
    "\n",
    "\t\treturn data_ingestion_config"
   ]
  },
  {
   "cell_type": "code",
   "execution_count": 7,
   "id": "e9a35661",
   "metadata": {},
   "outputs": [],
   "source": [
    "## Component - Data Ingestion\n",
    "import requests\n",
    "import os\n",
    "import urllib.request as request\n",
    "from src.datascience import logger\n",
    "import zipfile\n",
    "\n",
    "class DataIngestion:\n",
    "    \n",
    "\tdef __init__(self, config:DataIngestionConfig):\n",
    "\t\tself.config = config\n",
    "\n",
    "\t# Downloading the Zip File\n",
    "\tdef download_file(self):\n",
    "\t\tif not os.path.exists(self.config.local_data_file):\n",
    "\t\t\tfile_name, headers = request.urlretrieve(\n",
    "\t\t\t\turl = self.config.source_URL,\n",
    "\t\t\t\tfilename = self.config.local_data_file\n",
    "\t\t\t)\n",
    "\t\t\tlogger.info(f\"{file_name} downloaded with following info: \\n{headers}\")\n",
    "\t\telse:\n",
    "\t\t\tlogger.info(f\"File already exists\")\n",
    "\n",
    "\t# Extracting the Zip File\n",
    "\tdef extract_zip_file(self):\n",
    "\t\tunzip_path = self.config.unzip_dir\n",
    "\t\tos.makedirs(unzip_path, exist_ok=True)\n",
    "\t\twith zipfile.ZipFile(self.config.local_data_file, 'r') as zip_ref:\n",
    "\t\t\tzip_ref.extractall(unzip_path)\n"
   ]
  },
  {
   "cell_type": "code",
   "execution_count": 8,
   "id": "8ef2f31a",
   "metadata": {},
   "outputs": [
    {
     "name": "stdout",
     "output_type": "stream",
     "text": [
      "[2025-07-20 17:30:15,197: INFO: common: YAML File: config\\config.yaml Loaded Successfully.]\n",
      "[2025-07-20 17:30:15,201: INFO: common: YAML File: params.yaml Loaded Successfully.]\n",
      "[2025-07-20 17:30:15,205: INFO: common: YAML File: schema.yaml Loaded Successfully.]\n",
      "[2025-07-20 17:30:15,208: INFO: common: Created Directory at artifacts]\n",
      "[2025-07-20 17:30:15,211: INFO: common: Created Directory at artifacts/data_ingestion]\n",
      "[2025-07-20 17:30:16,629: INFO: 1980136982: artifacts/data_ingestion/data.zip downloaded with following info: \n",
      "Connection: close\n",
      "Content-Length: 23329\n",
      "Cache-Control: max-age=300\n",
      "Content-Security-Policy: default-src 'none'; style-src 'unsafe-inline'; sandbox\n",
      "Content-Type: application/zip\n",
      "ETag: \"c69888a4ae59bc5a893392785a938ccd4937981c06ba8a9d6a21aa52b4ab5b6e\"\n",
      "Strict-Transport-Security: max-age=31536000\n",
      "X-Content-Type-Options: nosniff\n",
      "X-Frame-Options: deny\n",
      "X-XSS-Protection: 1; mode=block\n",
      "X-GitHub-Request-Id: FC5E:1BDC83:1C287C:55F6AB:687CDA53\n",
      "Accept-Ranges: bytes\n",
      "Date: Sun, 20 Jul 2025 12:00:20 GMT\n",
      "Via: 1.1 varnish\n",
      "X-Served-By: cache-hyd1100029-HYD\n",
      "X-Cache: MISS\n",
      "X-Cache-Hits: 0\n",
      "X-Timer: S1753012820.092885,VS0,VE246\n",
      "Vary: Authorization,Accept-Encoding\n",
      "Access-Control-Allow-Origin: *\n",
      "Cross-Origin-Resource-Policy: cross-origin\n",
      "X-Fastly-Request-ID: bb5c25d4ad9917f8af9b904e828ab16502fe1490\n",
      "Expires: Sun, 20 Jul 2025 12:05:20 GMT\n",
      "Source-Age: 0\n",
      "\n",
      "]\n"
     ]
    }
   ],
   "source": [
    "try:\n",
    "    config = ConfigurationManager()\n",
    "    data_ingestion_config = config.get_data_ingestion_config()\n",
    "    data_ingestion = DataIngestion(config=data_ingestion_config)\n",
    "    data_ingestion.download_file()\n",
    "    data_ingestion.extract_zip_file()\n",
    "except Exception as e:\n",
    "    raise e"
   ]
  },
  {
   "cell_type": "code",
   "execution_count": null,
   "id": "54136620",
   "metadata": {},
   "outputs": [],
   "source": []
  }
 ],
 "metadata": {
  "kernelspec": {
   "display_name": "Python 3",
   "language": "python",
   "name": "python3"
  },
  "language_info": {
   "codemirror_mode": {
    "name": "ipython",
    "version": 3
   },
   "file_extension": ".py",
   "mimetype": "text/x-python",
   "name": "python",
   "nbconvert_exporter": "python",
   "pygments_lexer": "ipython3",
   "version": "3.10.0"
  }
 },
 "nbformat": 4,
 "nbformat_minor": 5
}
