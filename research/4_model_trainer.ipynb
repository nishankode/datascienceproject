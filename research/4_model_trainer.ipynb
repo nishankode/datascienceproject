{
 "cells": [
  {
   "cell_type": "code",
   "execution_count": 1,
   "id": "d26350d5",
   "metadata": {},
   "outputs": [
    {
     "name": "stdout",
     "output_type": "stream",
     "text": [
      "c:\\Users\\Muhammed Nishan\\OneDrive - Logic Plum, Inc\\Documents\\Learnings\\MLOps Projects\\datascienceproject\\research\n",
      "c:\\Users\\Muhammed Nishan\\OneDrive - Logic Plum, Inc\\Documents\\Learnings\\MLOps Projects\\datascienceproject\n"
     ]
    }
   ],
   "source": [
    "import os\n",
    "\n",
    "print(os.getcwd())\n",
    "os.chdir('../')\n",
    "print(os.getcwd())"
   ]
  },
  {
   "cell_type": "code",
   "execution_count": 2,
   "id": "67947b21",
   "metadata": {},
   "outputs": [],
   "source": [
    "# Creating Model trainer config\n",
    "\n",
    "from dataclasses import dataclass\n",
    "from pathlib import Path\n",
    "\n",
    "@dataclass\n",
    "class ModelTrinerConfig:\n",
    "    root_dir: Path\n",
    "    train_data_path: Path\n",
    "    test_data_path: Path\n",
    "    model_name: str\n",
    "    alpha: float\n",
    "    l1_ratio: float\n",
    "    target_column: str"
   ]
  },
  {
   "cell_type": "code",
   "execution_count": 3,
   "id": "f8b2e770",
   "metadata": {},
   "outputs": [],
   "source": [
    "# Updating Configuration manager\n",
    "\n",
    "from src.datascience.constants import *\n",
    "from src.datascience.utils.common import read_yaml, create_directories\n",
    "\n",
    "class ConfigurationManager:\n",
    "\tdef __init__(self, \n",
    "\t\tconfig_filepath = CONFIG_FILE_PATH,\n",
    "\t\tparams_filepath = PARAMS_FILE_PATH,\n",
    "\t\tschema_filepath = SCHEMA_FILE_PATH):\n",
    "\t\t\n",
    "\t\t# Loading configs, params and schema\n",
    "\t\tself.config = read_yaml(config_filepath)\n",
    "\t\tself.params = read_yaml(params_filepath)\n",
    "\t\tself.schema = read_yaml(schema_filepath)\n",
    "\n",
    "\t\t# Creating Artifacts\n",
    "\t\tcreate_directories([self.config.artifacts_root])\n",
    "\t\n",
    "\tdef get_model_trainer_config(self) -> ModelTrinerConfig:\n",
    "\t\tconfig = self.config.model_trainer\n",
    "\t\tparams = self.params.ElasticNet\n",
    "\t\tschema = self.schema.TARGET_COLUMN\n",
    "\n",
    "\n",
    "\t\tcreate_directories([config.root_dir])\n",
    "\n",
    "\t\tmodel_trainer_config = ModelTrinerConfig(\n",
    "\t\t\troot_dir = config.root_dir,\n",
    "\t\t\ttrain_data_path = config.train_data_path,\n",
    "\t\t\ttest_data_path = config.test_data_path,\n",
    "\t\t\tmodel_name = config.model_name,\n",
    "\t\t\talpha = params.alpha,\n",
    "\t\t\tl1_ratio = params.l1_ratio,\n",
    "\t\t\ttarget_column = schema.name\n",
    "\t\t)\n",
    "\n",
    "\t\treturn model_trainer_config"
   ]
  },
  {
   "cell_type": "code",
   "execution_count": 4,
   "id": "9690b065",
   "metadata": {},
   "outputs": [],
   "source": [
    "# Component - ModelTrainer\n",
    "\n",
    "import pandas as pd\n",
    "import os\n",
    "from src.datascience import logger\n",
    "from sklearn.linear_model import ElasticNet\n",
    "import joblib\n",
    "\n",
    "class ModelTrainer:\n",
    "\tdef __init__(self, config: ConfigurationManager):\n",
    "\t\tself.config = config\n",
    "\n",
    "\tdef train(self):\n",
    "\n",
    "\t\ttrain_data = pd.read_csv(self.config.train_data_path)\n",
    "\t\ttest_data = pd.read_csv(self.config.test_data_path)\n",
    "\n",
    "\t\ttrain_x = train_data.drop([self.config.target_column], axis=1)\n",
    "\t\ttest_x = test_data.drop([self.config.target_column], axis=1)\n",
    "\t\ttrain_y = train_data[[self.config.target_column]]\n",
    "\t\ttest_y = test_data[[self.config.target_column]]\n",
    "\n",
    "\t\tlr = ElasticNet(\n",
    "\t\t\talpha = self.config.alpha, \n",
    "\t\t\tl1_ratio = self.config.l1_ratio,\n",
    "\t\t\trandom_state = 42)\n",
    "\t\tlr.fit(train_x, train_y)\n",
    "\t\t\n",
    "\t\tjoblib.dump(lr, os.path.join(self.config.root_dir, self.config.model_name))\n"
   ]
  },
  {
   "cell_type": "code",
   "execution_count": 5,
   "id": "665825cd",
   "metadata": {},
   "outputs": [
    {
     "name": "stdout",
     "output_type": "stream",
     "text": [
      "[2025-07-24 12:13:31,577: INFO: common: YAML File: config\\config.yaml Loaded Successfully.]\n",
      "[2025-07-24 12:13:31,592: INFO: common: YAML File: params.yaml Loaded Successfully.]\n",
      "[2025-07-24 12:13:31,608: INFO: common: YAML File: schema.yaml Loaded Successfully.]\n",
      "[2025-07-24 12:13:31,611: INFO: common: Created Directory at artifacts]\n",
      "[2025-07-24 12:13:31,612: INFO: common: Created Directory at artifacts/model_trainer]\n"
     ]
    }
   ],
   "source": [
    "config = ConfigurationManager()\n",
    "model_trainer_config = config.get_model_trainer_config()\n",
    "model_trainer = ModelTrainer(config=model_trainer_config)\n",
    "model_trainer.train()"
   ]
  },
  {
   "cell_type": "code",
   "execution_count": null,
   "id": "4c23cc14",
   "metadata": {},
   "outputs": [],
   "source": []
  }
 ],
 "metadata": {
  "kernelspec": {
   "display_name": "venv",
   "language": "python",
   "name": "python3"
  },
  "language_info": {
   "codemirror_mode": {
    "name": "ipython",
    "version": 3
   },
   "file_extension": ".py",
   "mimetype": "text/x-python",
   "name": "python",
   "nbconvert_exporter": "python",
   "pygments_lexer": "ipython3",
   "version": "3.10.18"
  }
 },
 "nbformat": 4,
 "nbformat_minor": 5
}
